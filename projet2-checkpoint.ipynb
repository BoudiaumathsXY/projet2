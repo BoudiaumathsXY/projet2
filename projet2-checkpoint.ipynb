{
 "cells": [
  {
   "cell_type": "code",
   "execution_count": 48,
   "id": "2f75f242-027a-4e6d-8451-ef1a7cca573b",
   "metadata": {},
   "outputs": [],
   "source": [
    "import random\n",
    "def guess_the_number() :\n",
    "    number_to_guess = random.randint(1, 100)\n",
    "    attempts = 0\n",
    "    guessed = False\n",
    "    print(\" Bienvenue au jeu 'Guess the number' ! \")\n",
    "    print(\"Devinez un nombre entre 1 et 100.\")\n",
    "    while not guessed : \n",
    "        try :\n",
    "\n",
    "            \n",
    "            guess = int(input(\"Entrez votre estimation : \"))\n",
    "            attempts += 1\n",
    "            if guess < number_to_guess : \n",
    "                print(\"Trop bas ! Essayez encore.\")\n",
    "            elif guess > number_to_guess : \n",
    "                print(\"Trop haut ! Essayez encore.\")\n",
    "            else : \n",
    "                 guessed = True\n",
    "                 print(f\"Félicitations ! Vous avez deviné le nombre en {attempts} tentatives.\")\n",
    "        except ValueError :\n",
    "            print(\"Vous n'avez pas saisie un entier\")"
   ]
  },
  {
   "cell_type": "code",
   "execution_count": 49,
   "id": "ebaa9460-ce7e-45d5-9526-73d4683736c3",
   "metadata": {
    "scrolled": true
   },
   "outputs": [
    {
     "name": "stdout",
     "output_type": "stream",
     "text": [
      " Bienvenue au jeu 'Guess the number' ! \n",
      "Devinez un nombre entre 1 et 100.\n"
     ]
    },
    {
     "name": "stdin",
     "output_type": "stream",
     "text": [
      "Entrez votre estimation :  56\n"
     ]
    },
    {
     "name": "stdout",
     "output_type": "stream",
     "text": [
      "Trop bas ! Essayez encore.\n"
     ]
    },
    {
     "name": "stdin",
     "output_type": "stream",
     "text": [
      "Entrez votre estimation :  78\n"
     ]
    },
    {
     "name": "stdout",
     "output_type": "stream",
     "text": [
      "Trop bas ! Essayez encore.\n"
     ]
    },
    {
     "name": "stdin",
     "output_type": "stream",
     "text": [
      "Entrez votre estimation :  90\n"
     ]
    },
    {
     "name": "stdout",
     "output_type": "stream",
     "text": [
      "Trop haut ! Essayez encore.\n"
     ]
    },
    {
     "name": "stdin",
     "output_type": "stream",
     "text": [
      "Entrez votre estimation :  89\n"
     ]
    },
    {
     "name": "stdout",
     "output_type": "stream",
     "text": [
      "Trop haut ! Essayez encore.\n"
     ]
    },
    {
     "name": "stdin",
     "output_type": "stream",
     "text": [
      "Entrez votre estimation :  87\n"
     ]
    },
    {
     "name": "stdout",
     "output_type": "stream",
     "text": [
      "Trop haut ! Essayez encore.\n"
     ]
    },
    {
     "name": "stdin",
     "output_type": "stream",
     "text": [
      "Entrez votre estimation :  86\n"
     ]
    },
    {
     "name": "stdout",
     "output_type": "stream",
     "text": [
      "Trop haut ! Essayez encore.\n"
     ]
    },
    {
     "name": "stdin",
     "output_type": "stream",
     "text": [
      "Entrez votre estimation :  82\n"
     ]
    },
    {
     "name": "stdout",
     "output_type": "stream",
     "text": [
      "Trop haut ! Essayez encore.\n"
     ]
    },
    {
     "name": "stdin",
     "output_type": "stream",
     "text": [
      "Entrez votre estimation :  80\n"
     ]
    },
    {
     "name": "stdout",
     "output_type": "stream",
     "text": [
      "Trop haut ! Essayez encore.\n"
     ]
    },
    {
     "name": "stdin",
     "output_type": "stream",
     "text": [
      "Entrez votre estimation :  79\n"
     ]
    },
    {
     "name": "stdout",
     "output_type": "stream",
     "text": [
      "Félicitations ! Vous avez deviné le nombre en 9 tentatives.\n"
     ]
    }
   ],
   "source": [
    "guess_the_number() "
   ]
  },
  {
   "cell_type": "code",
   "execution_count": null,
   "id": "aea6ae2e-8007-4585-a6f0-e557160a441c",
   "metadata": {},
   "outputs": [],
   "source": []
  }
 ],
 "metadata": {
  "kernelspec": {
   "display_name": "Python 3 (ipykernel)",
   "language": "python",
   "name": "python3"
  },
  "language_info": {
   "codemirror_mode": {
    "name": "ipython",
    "version": 3
   },
   "file_extension": ".py",
   "mimetype": "text/x-python",
   "name": "python",
   "nbconvert_exporter": "python",
   "pygments_lexer": "ipython3",
   "version": "3.12.4"
  }
 },
 "nbformat": 4,
 "nbformat_minor": 5
}
